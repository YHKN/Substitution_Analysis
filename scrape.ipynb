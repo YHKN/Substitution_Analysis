{
 "cells": [
  {
   "cell_type": "code",
   "execution_count": 1,
   "metadata": {
    "collapsed": true
   },
   "outputs": [],
   "source": [
    "import os.path\n",
    "import bs4 as bs\n",
    "import urllib.request\n",
    "import glob\n",
    "import pandas as pd"
   ]
  },
  {
   "cell_type": "code",
   "execution_count": 2,
   "outputs": [],
   "source": [
    "cols_all = [\"Match_Index\", \"Team_Home\", \"Team_Away\", \"Minute\", \"Goals_Home\", \"Goals_Away\", \"Subs_Home\", \"Subs_Away\",\n",
    "        \"Event\", \"Event_Team\",\"Current_Points\",\"Final_Points\", \"Event_Coach\"]\n",
    "\n",
    "cols_subs = [\"Match_Index\", \"Team_Home\", \"Team_Away\", \"Minute\", \"Sub_Number\", \"Event_Team\", \"Goals_Home\", \"Goals_Away\",\"Current_Points\",\"Final_Points\", \"Event_Coach\"]"
   ],
   "metadata": {
    "collapsed": false,
    "pycharm": {
     "name": "#%%\n"
    }
   }
  },
  {
   "cell_type": "code",
   "execution_count": 8,
   "outputs": [],
   "source": [
    "season = \"2021-22\"  # season to analyze\n",
    "default_url = f\"https://www.kicker.de/bundesliga/spieltag/{season}/\"\n",
    "\n",
    "start_match_day = 1\n",
    "end_match_day = 27\n",
    "for i in range(start_match_day,end_match_day+1):  # for every match day in given range...\n",
    "    # ...get link to every match\n",
    "    url =  default_url+str(i)\n",
    "\n",
    "    kicker_Client = urllib.request.urlopen(url)\n",
    "    kicker_html = kicker_Client.read()\n",
    "    kicker_Client.close()\n",
    "\n",
    "    kicker_Soup = bs.BeautifulSoup(kicker_html, \"lxml\")\n",
    "\n",
    "    match_container = kicker_Soup.findAll(\"a\",{\"class\":\"kick__v100-scoreBoard kick__v100-scoreBoard--standard\"})\n",
    "\n",
    "    for k in range(len(match_container)):   # for every match of math day...\n",
    "        link = match_container[k][\"href\"]\n",
    "        # ...go to \"Schema\"-page of kicker article\n",
    "        link = \"https://www.kicker.de\"+str(link).replace(\"analyse\",\"schema\")\n",
    "\n",
    "        if \"schema\" in link:\n",
    "            match_index = link.split(\"-\").pop()[:7]\n",
    "            if match_index == \"4721736\":    # match index of abandoned match Bochum - M'Gladbach\n",
    "                continue\n",
    "\n",
    "            # scrape page\n",
    "            match_Client = urllib.request.urlopen(link)\n",
    "            match_html = match_Client.read()\n",
    "            match_Client.close()\n",
    "            match_Soup = bs.BeautifulSoup(match_html, \"lxml\")\n",
    "\n",
    "            # get final score\n",
    "            final_goals = match_Soup.findAll(\"div\", {\"kick__v100-scoreBoard__scoreHolder__score\"})\n",
    "            final_home_goals = int(final_goals[0].text)\n",
    "            final_away_goals = int(final_goals[1].text)\n",
    "\n",
    "            # get home and away coaches and initialize goal and sub counters\n",
    "            coach_container = match_Soup.find(\"section\",{\"class\":\"kick__section-item kick__section-item--sec\"})\n",
    "            coaches = coach_container.findAll(\"div\",{\"class\":\"kick__lineup-text\"})\n",
    "\n",
    "            home = coaches[0].text.split(\"\\n\")\n",
    "            home = list(filter(None, home))\n",
    "            home_team = home[0]\n",
    "            home_coach = home[1]\n",
    "            home_goals = 0\n",
    "            home_subs = 0\n",
    "            away = coaches[1].text.split(\"\\n\")\n",
    "            away = list(filter(None, away))\n",
    "            away_team = away[0]\n",
    "            away_coach = away[1]\n",
    "            away_goals = 0\n",
    "            away_subs = 0\n",
    "            current_points = 1\n",
    "\n",
    "            final_home_points = final_away_points = 1\n",
    "            if final_home_goals > final_away_goals:\n",
    "                final_home_points = 3\n",
    "                final_away_points = 0\n",
    "            if final_away_goals > final_home_goals:\n",
    "                final_home_points = 0\n",
    "                final_away_points = 3\n",
    "\n",
    "            # get all events of timeline\n",
    "            event_container = match_Soup.find(\"div\", {\"class\":\"kick__game-timeline\"})\n",
    "            events = event_container.findAll(\"div\",{\"class\":\"kick__ticker-event-overlay-box kick__js_overlay-card kick__ticker-event-overlay-box--with-player\"})\n",
    "\n",
    "            match_events = []   # list of all events in match\n",
    "            subs_events = []    # list of all substitutions in match\n",
    "            for event in events:    # for all timestamps in timeline...\n",
    "                text = event.text\n",
    "                # ...get all events at timestamp (multiple events at single timestamp possible)\n",
    "                goals = text.count(\"Tor\") - text.count(\"Tor annulliert\")\n",
    "                subs = text.count(\"Spielerwechsel\")\n",
    "                reds = text.count(\"Rote Karte\")\n",
    "                yellows = text.count(\"Gelbe Karte\")\n",
    "                minute = text[8:].split(\".\")[0]\n",
    "                if home_goals == away_goals:\n",
    "                    current_points = 1\n",
    "                if home_team in text:   # home team event\n",
    "                    if home_goals > away_goals:\n",
    "                        current_points = 3\n",
    "                    if home_goals < away_goals:\n",
    "                        current_points = 0\n",
    "                    for goal in range(goals):\n",
    "                        home_goals += 1\n",
    "                        match_events.append((match_index,home_team,away_team,minute,home_goals,away_goals,home_subs,away_subs,\"Tor\",home_team, current_points,final_home_points,home_coach))\n",
    "                    for sub in range(subs):\n",
    "                        home_subs += 1\n",
    "                        match_events.append((match_index,home_team,away_team,minute,home_goals,away_goals,home_subs,away_subs,\"Wechsel\",home_team,current_points,final_home_points,home_coach))\n",
    "                        subs_events.append((match_index, home_team, away_team, minute, home_subs, home_team, home_goals,\n",
    "                                    away_goals, current_points,final_home_points, home_coach))\n",
    "                    for red in range(reds):\n",
    "                        match_events.append((match_index,home_team,away_team,minute,home_goals,away_goals,home_subs,away_subs,\"Rote Karte\",home_team,current_points,final_home_points,home_coach))\n",
    "                    for yellow in range(yellows):\n",
    "                        match_events.append((match_index,home_team,away_team,minute,home_goals,away_goals,home_subs,away_subs,\"Gelbe Karte\",home_team,current_points,final_home_points,home_coach))\n",
    "                else:   # away team event\n",
    "                    if home_goals < away_goals:\n",
    "                        current_points = 3\n",
    "                    if home_goals > away_goals:\n",
    "                        current_points = 0\n",
    "                    for goal in range(goals):\n",
    "                        away_goals += 1\n",
    "                        match_events.append((match_index,home_team,away_team,minute,home_goals,away_goals,home_subs,away_subs,\"Tor\",away_team,current_points,final_away_points,away_coach))\n",
    "                    for sub in range(subs):\n",
    "                        away_subs += 1\n",
    "                        match_events.append((match_index,home_team,away_team,minute,home_goals,away_goals,home_subs,away_subs,\"Wechsel\",away_team,current_points,final_away_points,away_coach))\n",
    "                        subs_events.append((match_index, home_team, away_team, minute, away_subs, away_team, home_goals,\n",
    "                                    away_goals, current_points,final_away_points, away_coach))\n",
    "                    for red in range(reds):\n",
    "                        match_events.append((match_index,home_team,away_team,minute,home_goals,away_goals,home_subs,away_subs,\"Rote Karte\",away_team,current_points,final_away_points,away_coach))\n",
    "                    for yellow in range(yellows):\n",
    "                        match_events.append((match_index,home_team,away_team,minute,home_goals,away_goals,home_subs,away_subs,\"Gelbe Karte\",away_team,current_points,final_away_points,away_coach))\n",
    "\n",
    "            # create directories if not existent\n",
    "            if not os.path.exists('all_events'):\n",
    "                os.makedirs('all_events')\n",
    "            if not os.path.exists('subs'):\n",
    "                os.makedirs('subs')\n",
    "\n",
    "            # save data as csv-file\n",
    "            pd.DataFrame(match_events,columns=cols_all).to_csv(f\"all_events/{match_index}.csv\", index=False, encoding='utf-8')\n",
    "            pd.DataFrame(subs_events,columns=cols_subs).to_csv(f\"subs/{match_index}.csv\", index=False, encoding='utf-8')"
   ],
   "metadata": {
    "collapsed": false,
    "pycharm": {
     "name": "#%%\n"
    }
   }
  },
  {
   "cell_type": "code",
   "execution_count": 15,
   "outputs": [],
   "source": [
    "extension = 'csv'\n",
    "\n",
    "current_path = os.getcwd()\n",
    "\n",
    "# combine csv-files to single csv-file\n",
    "os.chdir(\"all_events\")\n",
    "all_filenames = [i for i in glob.glob('*.{}'.format(extension))]    # get names of all csv-files in directory\n",
    "all_events = pd.concat([pd.read_csv(f) for f in all_filenames ])    # concatenate dataframes to single one\n",
    "all_events.to_csv(\"all_events.csv\", index=False, encoding='utf-8')  # saves combined data as csv-file\n",
    "\n",
    "os.chdir(current_path)\n",
    "\n",
    "os.chdir(\"subs\")\n",
    "all_filenames = [i for i in glob.glob('*.{}'.format(extension))]\n",
    "all_subs = pd.concat([pd.read_csv(f) for f in all_filenames ])\n",
    "all_subs.to_csv(\"all_subs.csv\", index=False, encoding='utf-8')\n",
    "\n",
    "os.chdir(current_path)"
   ],
   "metadata": {
    "collapsed": false,
    "pycharm": {
     "name": "#%%\n"
    }
   }
  },
  {
   "cell_type": "code",
   "execution_count": null,
   "outputs": [],
   "source": [],
   "metadata": {
    "collapsed": false,
    "pycharm": {
     "name": "#%%\n"
    }
   }
  }
 ],
 "metadata": {
  "kernelspec": {
   "display_name": "Python 3",
   "language": "python",
   "name": "python3"
  },
  "language_info": {
   "codemirror_mode": {
    "name": "ipython",
    "version": 2
   },
   "file_extension": ".py",
   "mimetype": "text/x-python",
   "name": "python",
   "nbconvert_exporter": "python",
   "pygments_lexer": "ipython2",
   "version": "2.7.6"
  }
 },
 "nbformat": 4,
 "nbformat_minor": 0
}